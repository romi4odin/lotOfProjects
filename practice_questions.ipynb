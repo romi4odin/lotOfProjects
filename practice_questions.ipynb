{
 "cells": [
  {
   "cell_type": "code",
   "execution_count": 10,
   "id": "a0c4955c-1694-42a0-9d32-cfd1ca0d00cf",
   "metadata": {},
   "outputs": [],
   "source": []
  },
  {
   "cell_type": "code",
   "execution_count": 13,
   "id": "cfa3c077-d547-4f24-95cd-b96b05ea0114",
   "metadata": {},
   "outputs": [
    {
     "name": "stdout",
     "output_type": "stream",
     "text": [
      "Enter a number:  km\n"
     ]
    },
    {
     "name": "stdout",
     "output_type": "stream",
     "text": [
      "an unexpected exception occurred : invalid literal for int() with base 10: 'km'\n"
     ]
    }
   ],
   "source": [
    "class customException(Exception):\n",
    "    \"\"\"Base class for custom Exception\"\"\"\n",
    "    pass\n",
    "class ValueTooSmallException(customException):\n",
    "    pass\n",
    "\n",
    "class ValueTooLargeException(customException):\n",
    "    pass\n",
    "\n",
    "def checkValue(value):\n",
    "    if value>100:\n",
    "        raise ValueTooLargeException(f\"Value {value} too large\")\n",
    "    if value > 0 :\n",
    "        raise ValueTooSmallException(f\"Value {value} too small\")\n",
    "    else:\n",
    "        print(\"value is within the acceptable range\")\n",
    "\n",
    "try:\n",
    "    value =int( input(\"Enter a number: \"))\n",
    "    result = checkValue(value)\n",
    "    print(result)\n",
    "except ValueTooLargeException as e:\n",
    "    print(e)\n",
    "except ValueTooSmallException as e:\n",
    "    print(e)\n",
    "except Exception as e:\n",
    "    print(f\"an unexpected exception occurred : {e}\")\n",
    "    "
   ]
  },
  {
   "cell_type": "code",
   "execution_count": 22,
   "id": "36228476-4126-43dd-a065-468122f97407",
   "metadata": {},
   "outputs": [
    {
     "name": "stdout",
     "output_type": "stream",
     "text": [
      "1\n",
      "2\n",
      "3\n",
      "4\n",
      "5\n"
     ]
    }
   ],
   "source": [
    "class MyIterator:\n",
    "    def __init__(self, limit):\n",
    "        self.limit = limit\n",
    "        self.current = 0\n",
    "        \n",
    "    def __iter__(self):\n",
    "        return self\n",
    "        \n",
    "    def __next__(self):\n",
    "        if self.current < self.limit:\n",
    "            self.current += 1\n",
    "            return self.current\n",
    "        else:\n",
    "            raise StopIteration\n",
    "\n",
    "it = MyIterator(5)\n",
    "for num in it:\n",
    "    print(num)"
   ]
  },
  {
   "cell_type": "code",
   "execution_count": 30,
   "id": "2b584bf7-dabb-4dec-b612-5d23fdcbd6ad",
   "metadata": {},
   "outputs": [
    {
     "name": "stdout",
     "output_type": "stream",
     "text": [
      "{'name': 'sohail', 1: [1, 2, 3, 4]}\n"
     ]
    }
   ],
   "source": [
    "#creating a dictionary\n",
    "dict = {\"name\":\"sohail\", 1:[1,2,3,4]}\n",
    "print(dict)"
   ]
  },
  {
   "cell_type": "code",
   "execution_count": 34,
   "id": "0b39cb5d-6418-4216-adba-d446e2dce87e",
   "metadata": {},
   "outputs": [
    {
     "name": "stdout",
     "output_type": "stream",
     "text": [
      "sohail\n"
     ]
    }
   ],
   "source": [
    "print(dict['name'])"
   ]
  },
  {
   "cell_type": "code",
   "execution_count": 35,
   "id": "65b0430c-d588-4199-a494-01eb171399f2",
   "metadata": {},
   "outputs": [
    {
     "name": "stdout",
     "output_type": "stream",
     "text": [
      "[1, 2, 3, 4]\n"
     ]
    }
   ],
   "source": [
    "print(dict.get(1))"
   ]
  },
  {
   "cell_type": "code",
   "execution_count": 41,
   "id": "db7627b0-ab8f-4d36-8aa5-710b73bb7dd5",
   "metadata": {},
   "outputs": [
    {
     "name": "stdout",
     "output_type": "stream",
     "text": [
      "{1, 4, 9, 16, 25}\n"
     ]
    }
   ],
   "source": [
    "newDict = {x**2 for x in [1,2,3,4,5]}\n",
    "print(newDict)"
   ]
  },
  {
   "cell_type": "code",
   "execution_count": 44,
   "id": "3812a426-8966-4037-b1d5-23a9c4a9cb85",
   "metadata": {},
   "outputs": [],
   "source": [
    "list = [1,2,3,3,54,5]"
   ]
  },
  {
   "cell_type": "code",
   "execution_count": 45,
   "id": "0a127473-e1b0-45cb-8c2f-abe4c14d5c34",
   "metadata": {},
   "outputs": [
    {
     "data": {
      "text/plain": [
       "(1, 2, 3, 3, 54, 5)"
      ]
     },
     "execution_count": 45,
     "metadata": {},
     "output_type": "execute_result"
    }
   ],
   "source": [
    "tuple(list)"
   ]
  },
  {
   "cell_type": "code",
   "execution_count": 57,
   "id": "b186b1e4-5d6e-49f1-8862-0c45dd21d1f7",
   "metadata": {},
   "outputs": [
    {
     "name": "stdout",
     "output_type": "stream",
     "text": [
      "HloRm\n"
     ]
    }
   ],
   "source": [
    "s= \"Hello Romi\"\n",
    "\n",
    "print(s[0:10:2])"
   ]
  },
  {
   "cell_type": "code",
   "execution_count": 64,
   "id": "ee0cdd05-6cfb-4e61-9753-dfdfda61f5be",
   "metadata": {},
   "outputs": [],
   "source": [
    "Set = set([1,2,'Romi', 4, 5, \"Geek\", \"Geek\"])"
   ]
  },
  {
   "cell_type": "code",
   "execution_count": 65,
   "id": "af326686-45f0-4adf-bd45-270645584bbd",
   "metadata": {},
   "outputs": [
    {
     "name": "stdout",
     "output_type": "stream",
     "text": [
      "{1, 2, 4, 5, 'Geek', 'Romi'}\n"
     ]
    }
   ],
   "source": [
    "print(Set)"
   ]
  },
  {
   "cell_type": "code",
   "execution_count": 67,
   "id": "894e5af7-f12b-49dd-9a1b-660eed92100a",
   "metadata": {},
   "outputs": [
    {
     "name": "stdout",
     "output_type": "stream",
     "text": [
      "1\n",
      "2\n",
      "4\n",
      "5\n",
      "Geek\n",
      "Romi\n"
     ]
    }
   ],
   "source": [
    "for i in Set:\n",
    "    print(i)"
   ]
  },
  {
   "cell_type": "code",
   "execution_count": 75,
   "id": "07db6cb2-0223-47c1-8016-dfb0ba7d4292",
   "metadata": {},
   "outputs": [],
   "source": [
    "class EvenNumbers:\n",
    "    def __init__(self, limit):\n",
    "        self.limit = limit\n",
    "        self.current = 0\n",
    "    def __iter__(self):\n",
    "        return self\n",
    "    def __next__(self):\n",
    "        if self.current < self.limit:\n",
    "            self.current += 2\n",
    "            return self.current\n",
    "        else:\n",
    "            raise StopIteration"
   ]
  },
  {
   "cell_type": "code",
   "execution_count": 76,
   "id": "5acf1ad1-c939-400e-9c03-18f8a69c38fc",
   "metadata": {},
   "outputs": [
    {
     "name": "stdout",
     "output_type": "stream",
     "text": [
      "2\n",
      "4\n",
      "6\n",
      "8\n",
      "10\n"
     ]
    }
   ],
   "source": [
    "evennumbers = EvenNumbers(10)\n",
    "for num in evennumbers:\n",
    "    print(num)"
   ]
  },
  {
   "cell_type": "code",
   "execution_count": 86,
   "id": "0271ee87-2abd-4129-be47-a3c3566f7cc5",
   "metadata": {},
   "outputs": [],
   "source": [
    "def maxprofit(array):\n",
    "    min_price = float('inf')\n",
    "    profit = 0\n",
    "    for i in range(len(array)):\n",
    "        if array[i] < min_price:\n",
    "            min_price = array[i]\n",
    "        elif array[i]-min_price > profit :\n",
    "            profit = array[i]-min_price\n",
    "    return profit"
   ]
  },
  {
   "cell_type": "code",
   "execution_count": 87,
   "id": "52b73db6-c733-426f-8955-04b513bb0973",
   "metadata": {},
   "outputs": [],
   "source": [
    "max_prof = maxprofit([1,2,34,0,34,5,3,54])"
   ]
  },
  {
   "cell_type": "code",
   "execution_count": 88,
   "id": "a83df9e7-4a5d-43aa-bd05-86da72ef22ef",
   "metadata": {},
   "outputs": [
    {
     "data": {
      "text/plain": [
       "54"
      ]
     },
     "execution_count": 88,
     "metadata": {},
     "output_type": "execute_result"
    }
   ],
   "source": [
    "max_prof"
   ]
  },
  {
   "cell_type": "code",
   "execution_count": 6,
   "id": "dafe67f1",
   "metadata": {},
   "outputs": [],
   "source": [
    "def reversearrayString(s):\n",
    "    left = 0\n",
    "    right = len(s)-1\n",
    "    while(left < right):\n",
    "        s[left], s[right] = s[right], s[left]\n",
    "        left +=1\n",
    "        right -=1\n",
    "    return s"
   ]
  },
  {
   "cell_type": "code",
   "execution_count": 7,
   "id": "2ac34ad9",
   "metadata": {},
   "outputs": [
    {
     "name": "stdout",
     "output_type": "stream",
     "text": [
      "['o', 'l', 'l', 'e', 'H']\n"
     ]
    }
   ],
   "source": [
    "stringarray = ['H','e','l','l','o']\n",
    "\n",
    "print(reversearrayString(stringarray))"
   ]
  },
  {
   "cell_type": "markdown",
   "id": "713f5942-8826-4472-a39c-c1afe2a16475",
   "metadata": {},
   "source": []
  },
  {
   "cell_type": "code",
   "execution_count": 9,
   "id": "3d995cf6",
   "metadata": {},
   "outputs": [
    {
     "data": {
      "text/plain": [
       "'olleH'"
      ]
     },
     "execution_count": 9,
     "metadata": {},
     "output_type": "execute_result"
    }
   ],
   "source": [
    "s= 'Hello'\n",
    "s[::-1]"
   ]
  },
  {
   "cell_type": "code",
   "execution_count": 10,
   "id": "31580d21",
   "metadata": {},
   "outputs": [],
   "source": [
    "def firstuniquescharacter(s):\n",
    "    count = {}\n",
    "    for i in range(len(s)):\n",
    "        c = s[i]\n",
    "        count[c] = count.get(c, 0) + 1\n",
    "\n",
    "    for i in range(len(s)):\n",
    "        if count[s[i]] == 1:\n",
    "            return i\n",
    "    \n",
    "    return -1"
   ]
  },
  {
   "cell_type": "code",
   "execution_count": 13,
   "id": "ea9d311c",
   "metadata": {},
   "outputs": [
    {
     "name": "stdout",
     "output_type": "stream",
     "text": [
      "4\n"
     ]
    }
   ],
   "source": [
    "print(firstuniquescharacter(\"lleetcode\"))"
   ]
  },
  {
   "cell_type": "code",
   "execution_count": 14,
   "id": "9781b570",
   "metadata": {},
   "outputs": [],
   "source": [
    "def lengthoflastword(s):\n",
    "    #check if it has trailing spaces\n",
    "    p = len(s)-1\n",
    "\n",
    "    while s[p]==' ' and p >=0:\n",
    "        p -= 1\n",
    "\n",
    "    length = 0\n",
    "\n",
    "    while p >=0 and s[p] != ' ':\n",
    "        length += 1\n",
    "        p -= 1\n",
    "\n",
    "    return length"
   ]
  },
  {
   "cell_type": "code",
   "execution_count": 15,
   "id": "d354eda1",
   "metadata": {},
   "outputs": [
    {
     "name": "stdout",
     "output_type": "stream",
     "text": [
      "5\n"
     ]
    }
   ],
   "source": [
    "print(lengthoflastword(\"Hello world \"))"
   ]
  },
  {
   "cell_type": "code",
   "execution_count": null,
   "id": "1e2706a4",
   "metadata": {},
   "outputs": [],
   "source": [
    "def longestcomonprefix(s):\n",
    "    if len(s) == 0:\n",
    "        return \"\"\n",
    "    prefix = s[0]\n",
    "\n",
    "    for i in range(1, len(s)):\n",
    "        while s[i].find(prefix) != 0:\n",
    "            prefix = prefix[:-1]\n",
    "            if len(prefix) == 0:\n",
    "                return \"\"\n",
    "            \n",
    "    return prefix"
   ]
  }
 ],
 "metadata": {
  "kernelspec": {
   "display_name": "Python 3 (ipykernel)",
   "language": "python",
   "name": "python3"
  },
  "language_info": {
   "codemirror_mode": {
    "name": "ipython",
    "version": 3
   },
   "file_extension": ".py",
   "mimetype": "text/x-python",
   "name": "python",
   "nbconvert_exporter": "python",
   "pygments_lexer": "ipython3",
   "version": "3.9.6"
  }
 },
 "nbformat": 4,
 "nbformat_minor": 5
}
