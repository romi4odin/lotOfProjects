{
 "cells": [
  {
   "cell_type": "code",
   "execution_count": null,
   "id": "00986824-e906-45ba-b25d-7e291d6c2677",
   "metadata": {},
   "outputs": [],
   "source": []
  }
 ],
 "metadata": {
  "kernelspec": {
   "display_name": "",
   "name": ""
  },
  "language_info": {
   "name": ""
  }
 },
 "nbformat": 4,
 "nbformat_minor": 5
}
